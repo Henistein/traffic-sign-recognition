{
 "cells": [
  {
   "cell_type": "code",
   "execution_count": 14,
   "metadata": {},
   "outputs": [
    {
     "name": "stdout",
     "output_type": "stream",
     "text": [
      "Populating the interactive namespace from numpy and matplotlib\n"
     ]
    }
   ],
   "source": [
    "%pylab inline\n",
    "import glob"
   ]
  },
  {
   "cell_type": "code",
   "execution_count": 15,
   "metadata": {},
   "outputs": [],
   "source": [
    "# Get data \n",
    "import pandas as pd\n",
    "from PIL import Image\n",
    "\n",
    "def get_names():\n",
    "  names = pd.read_csv('signnames.csv')\n",
    "  for i in names['ClassId']:\n",
    "    yield i\n",
    "\n",
    "folder = []\n",
    "for i in glob.glob('data_train/*'):\n",
    "  folder.append(i)\n",
    "  \n",
    "folder.sort()\n",
    "\n",
    "images = []\n",
    "labels = []\n",
    "gen = get_names()\n",
    "for i in folder:\n",
    "  aux = next(gen)\n",
    "  for j in glob.glob((i+'/*.ppm')):\n",
    "    temp = Image.open(j)\n",
    "    keep = temp.copy()\n",
    "    images.append(keep)\n",
    "    labels.append(aux)"
   ]
  },
  {
   "cell_type": "code",
   "execution_count": 16,
   "metadata": {},
   "outputs": [],
   "source": [
    "import torch\n",
    "import torch.nn as nn\n",
    "import torch.optim as optim\n",
    "from torchvision import transforms\n",
    "import torch.nn.functional as F\n",
    "from tqdm import trange"
   ]
  },
  {
   "cell_type": "code",
   "execution_count": 17,
   "metadata": {},
   "outputs": [],
   "source": [
    "# Resize to (33, 33) and convert to tensor\n",
    "tfms = transforms.Compose([transforms.Resize((33, 33)), transforms.ToTensor(),])"
   ]
  },
  {
   "cell_type": "code",
   "execution_count": 18,
   "metadata": {},
   "outputs": [],
   "source": [
    "# Apply transforms\n",
    "imgs = [tfms(i) for i in images]\n",
    "imgs = torch.stack(imgs)\n",
    "\n",
    "labels = torch.tensor(labels).long()"
   ]
  },
  {
   "cell_type": "code",
   "execution_count": 19,
   "metadata": {},
   "outputs": [],
   "source": [
    "from sklearn.model_selection import train_test_split\n",
    "X_train, X_test, Y_train, Y_test = train_test_split(imgs, labels, random_state=42)"
   ]
  },
  {
   "cell_type": "code",
   "execution_count": 20,
   "metadata": {},
   "outputs": [],
   "source": [
    "# CNN\n",
    "class Net(nn.Module):\n",
    "  def __init__(self):\n",
    "    super().__init__()\n",
    "    self.conv1 = nn.Conv2d(3, 6, 5)\n",
    "    self.pool = nn.MaxPool2d(2, 2)\n",
    "    self.conv2 = nn.Conv2d(6, 16, 5)\n",
    "    self.fc1 = nn.Linear(16 * 5 * 5, 120)\n",
    "    self.fc2 = nn.Linear(120, 84)\n",
    "    self.fc3 = nn.Linear(84, 43)\n",
    "  \n",
    "  def forward(self, x):\n",
    "    x = self.pool(F.relu(self.conv1(x)))\n",
    "    x = self.pool(F.relu(self.conv2(x)))\n",
    "    x = torch.flatten(x, 1)\n",
    "    x = F.relu(self.fc1(x))\n",
    "    x = F.relu(self.fc2(x))\n",
    "    x = self.fc3(x)\n",
    "    return x"
   ]
  },
  {
   "cell_type": "code",
   "execution_count": 35,
   "metadata": {},
   "outputs": [],
   "source": [
    "BS = 100\n",
    "trainset = list(zip(X_train, Y_train))\n",
    "trainloader = torch.utils.data.DataLoader(trainset, batch_size=BS, \n",
    "                                          shuffle=False, num_workers=2)"
   ]
  },
  {
   "cell_type": "code",
   "execution_count": 45,
   "metadata": {},
   "outputs": [
    {
     "name": "stderr",
     "output_type": "stream",
     "text": [
      "loss 0.00 accuracy 1.00: 100%|██████████| 10/10 [19:40<00:00, 118.01s/it]\n"
     ]
    },
    {
     "data": {
      "text/plain": [
       "[<matplotlib.lines.Line2D at 0x7f207b4f2c10>]"
      ]
     },
     "execution_count": 45,
     "metadata": {},
     "output_type": "execute_result"
    },
    {
     "data": {
      "image/png": "[encoded data removed]",
      "text/plain": [
       "<Figure size 432x288 with 1 Axes>"
      ]
     },
     "metadata": {
      "needs_background": "light"
     },
     "output_type": "display_data"
    }
   ],
   "source": [
    "net = Net()\n",
    "\n",
    "loss_function = nn.CrossEntropyLoss()\n",
    "optim = torch.optim.SGD(net.parameters(), lr=0.001, momentum=0.0)\n",
    "\n",
    "losses, accuracies = [], []\n",
    "for i in (t := trange(10)):\n",
    "  for i, data in enumerate(trainloader, 0):\n",
    "    X, Y = data\n",
    "    net.zero_grad()\n",
    "\n",
    "    # forward (contains activation function inside)\n",
    "    out = net(X)\n",
    "\n",
    "    # Loss function\n",
    "    loss = loss_function(out, Y)\n",
    "    loss = loss.mean()\n",
    "\n",
    "    # Bacward and optimizer\n",
    "    loss.backward()\n",
    "    optim.step()\n",
    "\n",
    "    # Stats\n",
    "    cat = torch.argmax(out, dim=1)\n",
    "    accuracy = (cat == Y).float().mean()\n",
    "    accuracy = accuracy.item()\n",
    "    loss = loss.item()\n",
    "    accuracies.append(accuracy)\n",
    "    losses.append(loss)\n",
    "    t.set_description(\"loss %.2f accuracy %.2f\" % (loss, accuracy))\n",
    "plot(losses)\n",
    "plot(accuracies)"
   ]
  },
  {
   "cell_type": "code",
   "execution_count": 46,
   "metadata": {},
   "outputs": [],
   "source": [
    "net.eval()\n",
    "Y_pred = net(X_test)"
   ]
  },
  {
   "cell_type": "code",
   "execution_count": 47,
   "metadata": {},
   "outputs": [
    {
     "data": {
      "text/plain": [
       "0.9713353055187187"
      ]
     },
     "execution_count": 47,
     "metadata": {},
     "output_type": "execute_result"
    }
   ],
   "source": [
    "(torch.argmax(Y_pred, dim=1) == Y_test).numpy().mean()"
   ]
  },
  {
   "cell_type": "code",
   "execution_count": null,
   "metadata": {},
   "outputs": [],
   "source": []
  }
 ],
 "metadata": {
  "kernelspec": {
   "display_name": "Python 3",
   "language": "python",
   "name": "python3"
  },
  "language_info": {
   "codemirror_mode": {
    "name": "ipython",
    "version": 3
   },
   "file_extension": ".py",
   "mimetype": "text/x-python",
   "name": "python",
   "nbconvert_exporter": "python",
   "pygments_lexer": "ipython3",
   "version": "3.8.10"
  }
 },
 "nbformat": 4,
 "nbformat_minor": 4
}
