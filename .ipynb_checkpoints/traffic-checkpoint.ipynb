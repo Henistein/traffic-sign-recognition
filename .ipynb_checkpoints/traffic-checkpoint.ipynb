{
 "cells": [
  {
   "cell_type": "code",
   "execution_count": 1,
   "metadata": {},
   "outputs": [
    {
     "name": "stdout",
     "output_type": "stream",
     "text": [
      "Populating the interactive namespace from numpy and matplotlib\n"
     ]
    }
   ],
   "source": [
    "%pylab inline\n",
    "import glob"
   ]
  },
  {
   "cell_type": "code",
   "execution_count": 2,
   "metadata": {},
   "outputs": [],
   "source": [
    "# Get data \n",
    "import pandas as pd\n",
    "from PIL import Image\n",
    "\n",
    "def get_names():\n",
    "  names = pd.read_csv('signnames.csv')\n",
    "  for i in names['ClassId']:\n",
    "    yield i\n",
    "\n",
    "folder = []\n",
    "for i in glob.glob('data_train/*'):\n",
    "  folder.append(i)\n",
    "  \n",
    "folder.sort()\n",
    "\n",
    "images = []\n",
    "labels = []\n",
    "gen = get_names()\n",
    "for i in folder:\n",
    "  aux = next(gen)\n",
    "  for j in glob.glob((i+'/*.ppm')):\n",
    "    temp = Image.open(j)\n",
    "    keep = temp.copy()\n",
    "    images.append(keep)\n",
    "    labels.append(aux)"
   ]
  },
  {
   "cell_type": "code",
   "execution_count": 3,
   "metadata": {},
   "outputs": [],
   "source": [
    "import torch\n",
    "import torch.nn as nn\n",
    "import torch.optim as optim\n",
    "from torchvision import transforms\n",
    "import torch.nn.functional as F\n",
    "from torch.autograd import Variable\n",
    "from tqdm import trange, tqdm"
   ]
  },
  {
   "cell_type": "code",
   "execution_count": 4,
   "metadata": {},
   "outputs": [],
   "source": [
    "from PIL import Image"
   ]
  },
  {
   "cell_type": "code",
   "execution_count": 5,
   "metadata": {},
   "outputs": [],
   "source": [
    "# Resize to (33, 33) and convert to tensor\n",
    "# Be care with dimensions since it must be compatible with our model\n",
    "# Check this to calculate the compatible dimensions to our model: \n",
    "# https://medium.com/@kvirajdatt/calculating-output-dimensions-in-a-cnn-for-convolution-and-pooling-layers-with-keras-682960c73870\n",
    "tfms = transforms.Compose([transforms.Resize((33, 33)), \n",
    "                           transforms.ToTensor(),])"
   ]
  },
  {
   "cell_type": "code",
   "execution_count": 6,
   "metadata": {},
   "outputs": [],
   "source": [
    "# Apply transforms\n",
    "imgs = [tfms(i) for i in images]\n",
    "imgs = torch.stack(imgs)\n",
    "\n",
    "labels = torch.tensor(labels).long()"
   ]
  },
  {
   "cell_type": "code",
   "execution_count": 7,
   "metadata": {},
   "outputs": [],
   "source": [
    "from sklearn.model_selection import train_test_split\n",
    "X_train, X_test, Y_train, Y_test = train_test_split(imgs, labels, random_state=42)"
   ]
  },
  {
   "cell_type": "code",
   "execution_count": 8,
   "metadata": {},
   "outputs": [],
   "source": [
    "BS = 64\n",
    "trainset = list(zip(X_train, Y_train))\n",
    "trainloader = torch.utils.data.DataLoader(trainset, batch_size=BS, \n",
    "                                          shuffle=False, num_workers=2)"
   ]
  },
  {
   "cell_type": "code",
   "execution_count": 9,
   "metadata": {},
   "outputs": [],
   "source": [
    "class Net(torch.nn.Module):\n",
    "  def __init__(self):\n",
    "    super(Net, self).__init__()\n",
    "    self.pool = nn.MaxPool2d(2, 2)\n",
    "    self.conv1 = nn.Conv2d(3, 100, kernel_size=5)\n",
    "    self.bn1 = nn.BatchNorm2d(100)\n",
    "    self.conv2 = nn.Conv2d(100, 150, kernel_size=3)\n",
    "    self.bn2 = nn.BatchNorm2d(150)\n",
    "    self.conv3 = nn.Conv2d(150, 250, kernel_size=3)\n",
    "    self.bn3 = nn.BatchNorm2d(250)\n",
    "    self.conv_drop = nn.Dropout2d()\n",
    "    self.fc1 = nn.Linear(250 * 2 * 2, 350)\n",
    "    self.fc2 = nn.Linear(350, 43)\n",
    "\n",
    "  def forward(self, x):\n",
    "    x = self.bn1(self.pool(F.relu(self.conv1(x))))\n",
    "    x = self.conv_drop(x)\n",
    "    x = self.bn2(self.pool(F.relu(self.conv2(x))))\n",
    "    x = self.conv_drop(x)\n",
    "    x = self.bn3(self.pool(F.relu(self.conv3(x))))\n",
    "    x = self.conv_drop(x)\n",
    "    x = torch.flatten(x, 1) # flatten all dimensions except batch\n",
    "    x = F.relu(self.fc1(x))\n",
    "    x = self.fc2(x)\n",
    "    return x"
   ]
  },
  {
   "cell_type": "code",
   "execution_count": 10,
   "metadata": {},
   "outputs": [
    {
     "name": "stderr",
     "output_type": "stream",
     "text": [
      "  0%|          | 0/460 [00:00<?, ?it/s]/home/henistein/.local/lib/python3.8/site-packages/torch/nn/functional.py:718: UserWarning: Named tensors and all their associated APIs are an experimental feature and subject to change. Please do not use them for anything important until they are released as stable. (Triggered internally at  /pytorch/c10/core/TensorImpl.h:1156.)\n",
      "  return torch.max_pool2d(input, kernel_size, stride, padding, dilation, ceil_mode)\n",
      "loss 0.43 accuracy 0.90: 100%|██████████| 460/460 [00:38<00:00, 12.03it/s]\n",
      "loss 0.02 accuracy 1.00: 100%|██████████| 460/460 [00:38<00:00, 11.89it/s]\n",
      "loss 0.01 accuracy 1.00: 100%|██████████| 460/460 [00:38<00:00, 11.93it/s]\n",
      "loss 0.06 accuracy 1.00: 100%|██████████| 460/460 [00:38<00:00, 11.99it/s]\n",
      "loss 0.02 accuracy 1.00: 100%|██████████| 460/460 [00:38<00:00, 11.93it/s]\n"
     ]
    },
    {
     "data": {
      "text/plain": [
       "[<matplotlib.lines.Line2D at 0x7feccbd37430>]"
      ]
     },
     "execution_count": 10,
     "metadata": {},
     "output_type": "execute_result"
    },
    {
     "data": {
      "image/png": "[encoded data removed]",
      "text/plain": [
       "<Figure size 432x288 with 1 Axes>"
      ]
     },
     "metadata": {
      "needs_background": "light"
     },
     "output_type": "display_data"
    }
   ],
   "source": [
    "net = Net()\n",
    "\n",
    "loss_function = nn.CrossEntropyLoss()\n",
    "optim = torch.optim.Adam(net.parameters(), lr=0.001)\n",
    "\n",
    "losses, accuracies = [], []\n",
    "\n",
    "for _ in range(5):\n",
    "  for i, data in enumerate(t:=tqdm(trainloader)):\n",
    "    X, Y = data\n",
    "\n",
    "    optim.zero_grad()\n",
    "\n",
    "    # forward (contains activation function inside)\n",
    "    out = net(X)\n",
    "\n",
    "    # Loss function\n",
    "    loss = loss_function(out, Y)\n",
    "\n",
    "    # Bacward and optimizer\n",
    "    loss.backward()\n",
    "    optim.step()\n",
    "\n",
    "    # Stats\n",
    "    cat = torch.argmax(out, dim=1)\n",
    "    accuracy = (cat == Y).float().mean()\n",
    "    accuracy = accuracy.item()\n",
    "    loss = loss.item()\n",
    "    accuracies.append(accuracy)\n",
    "    losses.append(loss)\n",
    "    t.set_description(\"loss %.2f accuracy %.2f\" % (loss, accuracy))\n",
    "plot(losses)\n",
    "plot(accuracies)"
   ]
  },
  {
   "cell_type": "code",
   "execution_count": 11,
   "metadata": {},
   "outputs": [],
   "source": [
    "# Eval\n",
    "net.eval()\n",
    "Y_pred = net(X_test)"
   ]
  },
  {
   "cell_type": "code",
   "execution_count": 12,
   "metadata": {},
   "outputs": [
    {
     "data": {
      "text/plain": [
       "0.9945934917882281"
      ]
     },
     "execution_count": 12,
     "metadata": {},
     "output_type": "execute_result"
    }
   ],
   "source": [
    "(torch.argmax(Y_pred, dim=1) == Y_test).numpy().mean()"
   ]
  },
  {
   "cell_type": "code",
   "execution_count": null,
   "metadata": {},
   "outputs": [],
   "source": []
  }
 ],
 "metadata": {
  "kernelspec": {
   "display_name": "Python 3",
   "language": "python",
   "name": "python3"
  },
  "language_info": {
   "codemirror_mode": {
    "name": "ipython",
    "version": 3
   },
   "file_extension": ".py",
   "mimetype": "text/x-python",
   "name": "python",
   "nbconvert_exporter": "python",
   "pygments_lexer": "ipython3",
   "version": "3.8.10"
  }
 },
 "nbformat": 4,
 "nbformat_minor": 4
}
