{
 "cells": [
  {
   "cell_type": "code",
   "execution_count": 1,
   "metadata": {},
   "outputs": [
    {
     "name": "stdout",
     "output_type": "stream",
     "text": [
      "Populating the interactive namespace from numpy and matplotlib\n"
     ]
    }
   ],
   "source": [
    "%pylab inline\n",
    "import numpy as np\n",
    "from matplotlib.image import imread\n",
    "import matplotlib.pyplot as plt\n",
    "import glob"
   ]
  },
  {
   "cell_type": "code",
   "execution_count": 2,
   "metadata": {},
   "outputs": [],
   "source": [
    "# Get data \n",
    "import pandas as pd\n",
    "\n",
    "def get_names():\n",
    "  names = pd.read_csv('signnames.csv')\n",
    "  for i in names['ClassId']:\n",
    "    yield i\n",
    "\n",
    "folder = []\n",
    "for i in glob.glob('data_train/*'):\n",
    "  folder.append(i)\n",
    "  \n",
    "folder.sort()\n",
    "\n",
    "images = []\n",
    "labels = []\n",
    "gen = get_names()\n",
    "for i in folder:\n",
    "  aux = next(gen)\n",
    "  for j in glob.glob((i+'/*.ppm')):\n",
    "    images.append(j)\n",
    "    labels.append(aux)"
   ]
  },
  {
   "cell_type": "code",
   "execution_count": 3,
   "metadata": {},
   "outputs": [],
   "source": [
    "image_list = []\n",
    "for i in images:\n",
    "  image_list.append(imread(i))"
   ]
  },
  {
   "cell_type": "code",
   "execution_count": 4,
   "metadata": {},
   "outputs": [],
   "source": [
    "from PIL import Image"
   ]
  },
  {
   "cell_type": "code",
   "execution_count": 5,
   "metadata": {},
   "outputs": [],
   "source": [
    "# Simple function to resize an image to (33, 33)\n",
    "resize_img = lambda x: np.array(Image.fromarray(x).resize((33, 33)))"
   ]
  },
  {
   "cell_type": "code",
   "execution_count": 6,
   "metadata": {},
   "outputs": [],
   "source": [
    "from sklearn.model_selection import train_test_split\n",
    "rawX = np.array([resize_img(i) for i in image_list]).astype('float')\n",
    "rawY = np.array(labels)\n",
    "\n",
    "X_train, X_test, Y_train, Y_test = train_test_split(rawX, rawY, random_state=42)"
   ]
  },
  {
   "cell_type": "code",
   "execution_count": 7,
   "metadata": {},
   "outputs": [],
   "source": [
    "# Neural Network\n",
    "import torch\n",
    "import torch.nn as nn\n",
    "import torch.nn.functional as F\n",
    "from tqdm import trange"
   ]
  },
  {
   "cell_type": "code",
   "execution_count": 9,
   "metadata": {},
   "outputs": [],
   "source": [
    "class Net(torch.nn.Module):\n",
    "  def __init__(self):\n",
    "    super(Net, self).__init__()\n",
    "    self.l1 = nn.Linear(3267, 1280, bias=False)\n",
    "    self.l2 = nn.Linear(1280, 43, bias=False)\n",
    "    self.sm = nn.LogSoftmax(dim=1)\n",
    "  def forward(self, x):\n",
    "    x = F.relu(self.l1(x))\n",
    "    x = self.l2(x)\n",
    "    x = self.sm(x)\n",
    "    return x"
   ]
  },
  {
   "cell_type": "code",
   "execution_count": 10,
   "metadata": {},
   "outputs": [
    {
     "name": "stderr",
     "output_type": "stream",
     "text": [
      "loss 0.43 accuracy 0.90: 100%|██████████| 1000/1000 [01:53<00:00,  8.78it/s]"
     ]
    },
    {
     "name": "stdout",
     "output_type": "stream",
     "text": [
      "Loss:  0.42755189538002014\n",
      "Accuracy:  0.901562511920929\n"
     ]
    },
    {
     "name": "stderr",
     "output_type": "stream",
     "text": [
      "\n"
     ]
    },
    {
     "data": {
      "text/plain": [
       "[<matplotlib.lines.Line2D at 0x7fa43d26ff40>]"
      ]
     },
     "execution_count": 10,
     "metadata": {},
     "output_type": "execute_result"
    },
    {
     "data": {
      "image/png": "[encoded data removed]",
      "text/plain": [
       "<Figure size 432x288 with 1 Axes>"
      ]
     },
     "metadata": {
      "needs_background": "light"
     },
     "output_type": "display_data"
    }
   ],
   "source": [
    "model = Net()\n",
    "\n",
    "dev = (\"cuda:0\" if torch.cuda.is_available() else \"cpu\")\n",
    "device = torch.device(dev)\n",
    "model.to(device)\n",
    "\n",
    "loss_function = nn.CrossEntropyLoss()\n",
    "optim = torch.optim.SGD(model.parameters(), lr=0.001, momentum=0.0)\n",
    "losses, accuracies = [], []\n",
    "BS = 1280\n",
    "for i in (t := trange(1000)):\n",
    "  samp = np.random.randint(0, X_train.shape[0], size=BS)\n",
    "  X = torch.tensor(X_train[samp].reshape((-1, 33*33*3))).float().to(device)\n",
    "  Y = torch.tensor(Y_train[samp]).long().to(device)\n",
    "  model.zero_grad()\n",
    "  \n",
    "  # forward (contains activation function inside)\n",
    "  out = model(X)\n",
    "  \n",
    "  # loss function\n",
    "  loss = loss_function(out, Y)\n",
    "  loss = loss.mean()\n",
    "  \n",
    "  # Bacward and optimizer\n",
    "  loss.backward()\n",
    "  optim.step()\n",
    "  \n",
    "  # Stats\n",
    "  cat = torch.argmax(out, dim=1)\n",
    "  accuracy = (cat == Y).float().mean()\n",
    "  accuracy = accuracy.item()\n",
    "  loss = loss.item()\n",
    "  accuracies.append(accuracy)\n",
    "  losses.append(loss)\n",
    "  t.set_description(\"loss %.2f accuracy %.2f\" % (loss, accuracy))\n",
    "\n",
    "print(\"Loss: \",loss)\n",
    "print(\"Accuracy: \", accuracy)\n",
    "\n",
    "plot(losses)\n",
    "plot(accuracies)"
   ]
  },
  {
   "cell_type": "code",
   "execution_count": 11,
   "metadata": {},
   "outputs": [
    {
     "data": {
      "text/plain": [
       "0.8666734673059268"
      ]
     },
     "execution_count": 11,
     "metadata": {},
     "output_type": "execute_result"
    }
   ],
   "source": [
    "# Eval\n",
    "Y_pred = torch.argmax(model(torch.tensor(X_test.reshape((-1, 33*33*3))).float().to(device)), dim=1).to(torch.device('cpu')).numpy()\n",
    "(Y_test == Y_pred).mean()"
   ]
  },
  {
   "cell_type": "code",
   "execution_count": 8,
   "metadata": {},
   "outputs": [],
   "source": [
    "# CNN\n",
    "# https://navoshta.com/traffic-signs-classification/\n",
    "import torch.optim as optim"
   ]
  },
  {
   "cell_type": "code",
   "execution_count": 16,
   "metadata": {},
   "outputs": [],
   "source": [
    "class Net(nn.Module):\n",
    "  def __init__(self):\n",
    "    super().__init__()\n",
    "    self.conv1 = nn.Conv2d(3, 6, 5)\n",
    "    self.pool = nn.MaxPool2d(2, 2)\n",
    "    self.conv2 = nn.Conv2d(6, 16, 5)\n",
    "    self.fc1 = nn.Linear(16 * 5 * 5, 120)\n",
    "    self.fc2 = nn.Linear(120, 840)\n",
    "    self.fc3 = nn.Linear(840, 43)\n",
    "  \n",
    "  def forward(self, x):\n",
    "    x = self.pool(F.relu(self.conv1(x)))\n",
    "    x = self.pool(F.relu(self.conv2(x)))\n",
    "    x = torch.flatten(x, 1)\n",
    "    x = F.relu(self.fc1(x))\n",
    "    x = F.relu(self.fc2(x))\n",
    "    x = self.fc3(x)\n",
    "    return x"
   ]
  },
  {
   "cell_type": "code",
   "execution_count": 23,
   "metadata": {},
   "outputs": [
    {
     "name": "stderr",
     "output_type": "stream",
     "text": [
      "loss 0.65 accuracy 0.85: 100%|██████████| 1000/1000 [03:10<00:00,  5.24it/s]\n"
     ]
    },
    {
     "data": {
      "text/plain": [
       "[<matplotlib.lines.Line2D at 0x7f1f24f87850>]"
      ]
     },
     "execution_count": 23,
     "metadata": {},
     "output_type": "execute_result"
    },
    {
     "data": {
      "image/png": "[encoded data removed]",
      "text/plain": [
       "<Figure size 432x288 with 1 Axes>"
      ]
     },
     "metadata": {
      "needs_background": "light"
     },
     "output_type": "display_data"
    }
   ],
   "source": [
    "net = Net()\n",
    "\n",
    "dev = (\"cuda:0\" if torch.cuda.is_available() else \"cpu\")\n",
    "device = torch.device(dev)\n",
    "net.to(device)\n",
    "\n",
    "loss_function = nn.CrossEntropyLoss()\n",
    "optim = torch.optim.SGD(net.parameters(), lr=0.001, momentum=0.0)\n",
    "\n",
    "losses, accuracies = [], []\n",
    "BS = 1000\n",
    "for i in (t := trange(1000)):\n",
    "  samp = np.random.randint(0, X_train.shape[0], size=BS)\n",
    "  X = torch.tensor(X_train[samp].transpose(0, 3, 1, 2)).float().to(device)\n",
    "  Y = torch.tensor(Y_train[samp]).long().to(device)\n",
    "  net.zero_grad()\n",
    "  \n",
    "  # forward (contains activation function inside)\n",
    "  out = net(X)\n",
    "  \n",
    "  # loss function\n",
    "  loss = loss_function(out, Y)\n",
    "  loss = loss.mean()\n",
    "  \n",
    "  # Bacward and optimizer\n",
    "  loss.backward()\n",
    "  optim.step()\n",
    "  \n",
    "  # Stats\n",
    "  cat = torch.argmax(out, dim=1)\n",
    "  accuracy = (cat == Y).float().mean()\n",
    "  accuracy = accuracy.item()\n",
    "  loss = loss.item()\n",
    "  accuracies.append(accuracy)\n",
    "  losses.append(loss)\n",
    "  t.set_description(\"loss %.2f accuracy %.2f\" % (loss, accuracy))\n",
    "plot(losses)\n",
    "plot(accuracies)"
   ]
  },
  {
   "cell_type": "code",
   "execution_count": 24,
   "metadata": {},
   "outputs": [
    {
     "data": {
      "text/plain": [
       "tensor([24, 15, 13, 10, 15, 12, 25,  2, 11, 35,  2,  9, 13, 26,  1, 31,  2,  3,\n",
       "        24, 10, 11, 10, 11, 34,  3,  2,  2, 17,  7,  7,  5,  5, 31,  5,  5, 38,\n",
       "        34, 17, 13, 17], device='cuda:0')"
      ]
     },
     "execution_count": 24,
     "metadata": {},
     "output_type": "execute_result"
    }
   ],
   "source": [
    "# Eval\n",
    "Y_pred = torch.argmax(net(torch.tensor(X_test[:40].transpose(0, 3, 1, 2)).float().to(device)), dim=1)\n",
    "#(Y_test == Y_pred).mean()\n",
    "Y_pred"
   ]
  },
  {
   "cell_type": "code",
   "execution_count": 25,
   "metadata": {},
   "outputs": [],
   "source": [
    "yy = np.array([24, 15, 13, 10, 15, 12, 25,  2, 11, 35,  2,  9, 13, 26,  1, 31,  2,  3,\n",
    "        24, 10, 11, 10, 11, 34,  3,  2,  2, 17,  7,  7,  5,  5, 31,  5,  5, 38,\n",
    "        34, 17, 13, 17])"
   ]
  },
  {
   "cell_type": "code",
   "execution_count": 26,
   "metadata": {},
   "outputs": [
    {
     "data": {
      "text/plain": [
       "0.9"
      ]
     },
     "execution_count": 26,
     "metadata": {},
     "output_type": "execute_result"
    }
   ],
   "source": [
    "(yy == Y_test[:40]).mean()"
   ]
  }
 ],
 "metadata": {
  "kernelspec": {
   "display_name": "Python 3",
   "language": "python",
   "name": "python3"
  },
  "language_info": {
   "codemirror_mode": {
    "name": "ipython",
    "version": 3
   },
   "file_extension": ".py",
   "mimetype": "text/x-python",
   "name": "python",
   "nbconvert_exporter": "python",
   "pygments_lexer": "ipython3",
   "version": "3.8.10"
  }
 },
 "nbformat": 4,
 "nbformat_minor": 4
}
